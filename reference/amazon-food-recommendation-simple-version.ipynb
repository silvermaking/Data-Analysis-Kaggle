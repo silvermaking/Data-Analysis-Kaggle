{
 "cells": [
  {
   "cell_type": "code",
   "execution_count": 1,
   "metadata": {
    "_cell_guid": "b1076dfc-b9ad-4769-8c92-a6c4dae69d19",
    "_uuid": "8f2839f25d086af736a60e9eeb907d3b93b6e0e5",
    "execution": {
     "iopub.execute_input": "2021-02-25T07:41:28.231598Z",
     "iopub.status.busy": "2021-02-25T07:41:28.230886Z",
     "iopub.status.idle": "2021-02-25T07:41:28.251749Z",
     "shell.execute_reply": "2021-02-25T07:41:28.250476Z"
    },
    "papermill": {
     "duration": 0.047581,
     "end_time": "2021-02-25T07:41:28.252190",
     "exception": false,
     "start_time": "2021-02-25T07:41:28.204609",
     "status": "completed"
    },
    "tags": []
   },
   "outputs": [
    {
     "name": "stdout",
     "output_type": "stream",
     "text": [
      "/kaggle/input/amazonfooddataset/Grocery_and_Gourmet_Food.csv\n"
     ]
    }
   ],
   "source": [
    "# This Python 3 environment comes with many helpful analytics libraries installed\n",
    "# It is defined by the kaggle/python Docker image: https://github.com/kaggle/docker-python\n",
    "# For example, here's several helpful packages to load\n",
    "\n",
    "import numpy as np # linear algebra\n",
    "import pandas as pd # data processing, CSV file I/O (e.g. pd.read_csv)\n",
    "\n",
    "# Input data files are available in the read-only \"../input/\" directory\n",
    "# For example, running this (by clicking run or pressing Shift+Enter) will list all files under the input directory\n",
    "\n",
    "import os\n",
    "for dirname, _, filenames in os.walk('/kaggle/input'):\n",
    "    for filename in filenames:\n",
    "        print(os.path.join(dirname, filename))\n",
    "\n",
    "# You can write up to 20GB to the current directory (/kaggle/working/) that gets preserved as output when you create a version using \"Save & Run All\" \n",
    "# You can also write temporary files to /kaggle/temp/, but they won't be saved outside of the current session"
   ]
  },
  {
   "cell_type": "markdown",
   "metadata": {
    "papermill": {
     "duration": 0.022633,
     "end_time": "2021-02-25T07:41:28.299372",
     "exception": false,
     "start_time": "2021-02-25T07:41:28.276739",
     "status": "completed"
    },
    "tags": []
   },
   "source": [
    "# This notebook is for the people who want to get a basic concept of recommendation system. \n",
    "# I used the Amazon Food rating data (from 1996 to 2018)\n"
   ]
  },
  {
   "cell_type": "markdown",
   "metadata": {
    "papermill": {
     "duration": 0.02203,
     "end_time": "2021-02-25T07:41:28.343499",
     "exception": false,
     "start_time": "2021-02-25T07:41:28.321469",
     "status": "completed"
    },
    "tags": []
   },
   "source": [
    "# Dataset used : https://nijianmo.github.io/amazon/index.html\n",
    "\n",
    "* There are many types of datasets on the website. The dataset I used was a simple version which only contains the ratings. \n",
    "* This 'Grocery and Gourmet food' data includes reviews in the range May 1996 - Oct 2018.\n",
    "* Please read the description on the website above for more details."
   ]
  },
  {
   "cell_type": "code",
   "execution_count": 2,
   "metadata": {
    "execution": {
     "iopub.execute_input": "2021-02-25T07:41:28.393173Z",
     "iopub.status.busy": "2021-02-25T07:41:28.392435Z",
     "iopub.status.idle": "2021-02-25T07:41:36.028172Z",
     "shell.execute_reply": "2021-02-25T07:41:36.028665Z"
    },
    "papermill": {
     "duration": 7.663232,
     "end_time": "2021-02-25T07:41:36.028855",
     "exception": false,
     "start_time": "2021-02-25T07:41:28.365623",
     "status": "completed"
    },
    "tags": []
   },
   "outputs": [
    {
     "data": {
      "text/html": [
       "<div>\n",
       "<style scoped>\n",
       "    .dataframe tbody tr th:only-of-type {\n",
       "        vertical-align: middle;\n",
       "    }\n",
       "\n",
       "    .dataframe tbody tr th {\n",
       "        vertical-align: top;\n",
       "    }\n",
       "\n",
       "    .dataframe thead th {\n",
       "        text-align: right;\n",
       "    }\n",
       "</style>\n",
       "<table border=\"1\" class=\"dataframe\">\n",
       "  <thead>\n",
       "    <tr style=\"text-align: right;\">\n",
       "      <th></th>\n",
       "      <th>1888861614</th>\n",
       "      <th>ALP49FBWT4I7V</th>\n",
       "      <th>5.0</th>\n",
       "      <th>1370304000</th>\n",
       "    </tr>\n",
       "  </thead>\n",
       "  <tbody>\n",
       "    <tr>\n",
       "      <th>0</th>\n",
       "      <td>1888861614</td>\n",
       "      <td>A1KPIZOCLB9FZ8</td>\n",
       "      <td>4.0</td>\n",
       "      <td>1400803200</td>\n",
       "    </tr>\n",
       "    <tr>\n",
       "      <th>1</th>\n",
       "      <td>1888861614</td>\n",
       "      <td>A2W0FA06IYAYQE</td>\n",
       "      <td>4.0</td>\n",
       "      <td>1399593600</td>\n",
       "    </tr>\n",
       "    <tr>\n",
       "      <th>2</th>\n",
       "      <td>1888861614</td>\n",
       "      <td>A2PTZTCH2QUYBC</td>\n",
       "      <td>5.0</td>\n",
       "      <td>1397952000</td>\n",
       "    </tr>\n",
       "    <tr>\n",
       "      <th>3</th>\n",
       "      <td>1888861614</td>\n",
       "      <td>A2VNHGJ59N4Z90</td>\n",
       "      <td>4.0</td>\n",
       "      <td>1397606400</td>\n",
       "    </tr>\n",
       "    <tr>\n",
       "      <th>4</th>\n",
       "      <td>1888861614</td>\n",
       "      <td>ATQL0XOLZNHZ4</td>\n",
       "      <td>1.0</td>\n",
       "      <td>1392940800</td>\n",
       "    </tr>\n",
       "    <tr>\n",
       "      <th>...</th>\n",
       "      <td>...</td>\n",
       "      <td>...</td>\n",
       "      <td>...</td>\n",
       "      <td>...</td>\n",
       "    </tr>\n",
       "    <tr>\n",
       "      <th>5074154</th>\n",
       "      <td>B01HJHSVG6</td>\n",
       "      <td>AGOPF2VTEOP57</td>\n",
       "      <td>5.0</td>\n",
       "      <td>1538611200</td>\n",
       "    </tr>\n",
       "    <tr>\n",
       "      <th>5074155</th>\n",
       "      <td>B01HJHSVG6</td>\n",
       "      <td>A5X5TI4JCH9CN</td>\n",
       "      <td>3.0</td>\n",
       "      <td>1538524800</td>\n",
       "    </tr>\n",
       "    <tr>\n",
       "      <th>5074156</th>\n",
       "      <td>B01HJHSVG6</td>\n",
       "      <td>A1WMQQLC3TVAFI</td>\n",
       "      <td>4.0</td>\n",
       "      <td>1538438400</td>\n",
       "    </tr>\n",
       "    <tr>\n",
       "      <th>5074157</th>\n",
       "      <td>B01HJHSVG6</td>\n",
       "      <td>ALVP6JZRTEDY6</td>\n",
       "      <td>5.0</td>\n",
       "      <td>1538265600</td>\n",
       "    </tr>\n",
       "    <tr>\n",
       "      <th>5074158</th>\n",
       "      <td>B01HJHSVG6</td>\n",
       "      <td>AZFPVUZOVGBYR</td>\n",
       "      <td>5.0</td>\n",
       "      <td>1538179200</td>\n",
       "    </tr>\n",
       "  </tbody>\n",
       "</table>\n",
       "<p>5074159 rows × 4 columns</p>\n",
       "</div>"
      ],
      "text/plain": [
       "         1888861614   ALP49FBWT4I7V  5.0  1370304000\n",
       "0        1888861614  A1KPIZOCLB9FZ8  4.0  1400803200\n",
       "1        1888861614  A2W0FA06IYAYQE  4.0  1399593600\n",
       "2        1888861614  A2PTZTCH2QUYBC  5.0  1397952000\n",
       "3        1888861614  A2VNHGJ59N4Z90  4.0  1397606400\n",
       "4        1888861614   ATQL0XOLZNHZ4  1.0  1392940800\n",
       "...             ...             ...  ...         ...\n",
       "5074154  B01HJHSVG6   AGOPF2VTEOP57  5.0  1538611200\n",
       "5074155  B01HJHSVG6   A5X5TI4JCH9CN  3.0  1538524800\n",
       "5074156  B01HJHSVG6  A1WMQQLC3TVAFI  4.0  1538438400\n",
       "5074157  B01HJHSVG6   ALVP6JZRTEDY6  5.0  1538265600\n",
       "5074158  B01HJHSVG6   AZFPVUZOVGBYR  5.0  1538179200\n",
       "\n",
       "[5074159 rows x 4 columns]"
      ]
     },
     "execution_count": 2,
     "metadata": {},
     "output_type": "execute_result"
    }
   ],
   "source": [
    "data = pd.read_csv('/kaggle/input/amazonfooddataset/Grocery_and_Gourmet_Food.csv')\n",
    "data"
   ]
  },
  {
   "cell_type": "markdown",
   "metadata": {
    "papermill": {
     "duration": 0.022776,
     "end_time": "2021-02-25T07:41:36.075902",
     "exception": false,
     "start_time": "2021-02-25T07:41:36.053126",
     "status": "completed"
    },
    "tags": []
   },
   "source": [
    "Since the raw data has no column names, I put the column names (based on the data description page) manually. "
   ]
  },
  {
   "cell_type": "code",
   "execution_count": 3,
   "metadata": {
    "execution": {
     "iopub.execute_input": "2021-02-25T07:41:36.129394Z",
     "iopub.status.busy": "2021-02-25T07:41:36.128142Z",
     "iopub.status.idle": "2021-02-25T07:41:42.036167Z",
     "shell.execute_reply": "2021-02-25T07:41:42.035443Z"
    },
    "papermill": {
     "duration": 5.936661,
     "end_time": "2021-02-25T07:41:42.036315",
     "exception": false,
     "start_time": "2021-02-25T07:41:36.099654",
     "status": "completed"
    },
    "tags": []
   },
   "outputs": [
    {
     "data": {
      "text/html": [
       "<div>\n",
       "<style scoped>\n",
       "    .dataframe tbody tr th:only-of-type {\n",
       "        vertical-align: middle;\n",
       "    }\n",
       "\n",
       "    .dataframe tbody tr th {\n",
       "        vertical-align: top;\n",
       "    }\n",
       "\n",
       "    .dataframe thead th {\n",
       "        text-align: right;\n",
       "    }\n",
       "</style>\n",
       "<table border=\"1\" class=\"dataframe\">\n",
       "  <thead>\n",
       "    <tr style=\"text-align: right;\">\n",
       "      <th></th>\n",
       "      <th>ProductId</th>\n",
       "      <th>UserId</th>\n",
       "      <th>Rating</th>\n",
       "      <th>Timestamp</th>\n",
       "    </tr>\n",
       "  </thead>\n",
       "  <tbody>\n",
       "    <tr>\n",
       "      <th>0</th>\n",
       "      <td>1888861614</td>\n",
       "      <td>ALP49FBWT4I7V</td>\n",
       "      <td>5.0</td>\n",
       "      <td>1370304000</td>\n",
       "    </tr>\n",
       "    <tr>\n",
       "      <th>1</th>\n",
       "      <td>1888861614</td>\n",
       "      <td>A1KPIZOCLB9FZ8</td>\n",
       "      <td>4.0</td>\n",
       "      <td>1400803200</td>\n",
       "    </tr>\n",
       "    <tr>\n",
       "      <th>2</th>\n",
       "      <td>1888861614</td>\n",
       "      <td>A2W0FA06IYAYQE</td>\n",
       "      <td>4.0</td>\n",
       "      <td>1399593600</td>\n",
       "    </tr>\n",
       "    <tr>\n",
       "      <th>3</th>\n",
       "      <td>1888861614</td>\n",
       "      <td>A2PTZTCH2QUYBC</td>\n",
       "      <td>5.0</td>\n",
       "      <td>1397952000</td>\n",
       "    </tr>\n",
       "    <tr>\n",
       "      <th>4</th>\n",
       "      <td>1888861614</td>\n",
       "      <td>A2VNHGJ59N4Z90</td>\n",
       "      <td>4.0</td>\n",
       "      <td>1397606400</td>\n",
       "    </tr>\n",
       "    <tr>\n",
       "      <th>...</th>\n",
       "      <td>...</td>\n",
       "      <td>...</td>\n",
       "      <td>...</td>\n",
       "      <td>...</td>\n",
       "    </tr>\n",
       "    <tr>\n",
       "      <th>5074155</th>\n",
       "      <td>B01HJHSVG6</td>\n",
       "      <td>AGOPF2VTEOP57</td>\n",
       "      <td>5.0</td>\n",
       "      <td>1538611200</td>\n",
       "    </tr>\n",
       "    <tr>\n",
       "      <th>5074156</th>\n",
       "      <td>B01HJHSVG6</td>\n",
       "      <td>A5X5TI4JCH9CN</td>\n",
       "      <td>3.0</td>\n",
       "      <td>1538524800</td>\n",
       "    </tr>\n",
       "    <tr>\n",
       "      <th>5074157</th>\n",
       "      <td>B01HJHSVG6</td>\n",
       "      <td>A1WMQQLC3TVAFI</td>\n",
       "      <td>4.0</td>\n",
       "      <td>1538438400</td>\n",
       "    </tr>\n",
       "    <tr>\n",
       "      <th>5074158</th>\n",
       "      <td>B01HJHSVG6</td>\n",
       "      <td>ALVP6JZRTEDY6</td>\n",
       "      <td>5.0</td>\n",
       "      <td>1538265600</td>\n",
       "    </tr>\n",
       "    <tr>\n",
       "      <th>5074159</th>\n",
       "      <td>B01HJHSVG6</td>\n",
       "      <td>AZFPVUZOVGBYR</td>\n",
       "      <td>5.0</td>\n",
       "      <td>1538179200</td>\n",
       "    </tr>\n",
       "  </tbody>\n",
       "</table>\n",
       "<p>5074160 rows × 4 columns</p>\n",
       "</div>"
      ],
      "text/plain": [
       "          ProductId          UserId  Rating   Timestamp\n",
       "0        1888861614   ALP49FBWT4I7V     5.0  1370304000\n",
       "1        1888861614  A1KPIZOCLB9FZ8     4.0  1400803200\n",
       "2        1888861614  A2W0FA06IYAYQE     4.0  1399593600\n",
       "3        1888861614  A2PTZTCH2QUYBC     5.0  1397952000\n",
       "4        1888861614  A2VNHGJ59N4Z90     4.0  1397606400\n",
       "...             ...             ...     ...         ...\n",
       "5074155  B01HJHSVG6   AGOPF2VTEOP57     5.0  1538611200\n",
       "5074156  B01HJHSVG6   A5X5TI4JCH9CN     3.0  1538524800\n",
       "5074157  B01HJHSVG6  A1WMQQLC3TVAFI     4.0  1538438400\n",
       "5074158  B01HJHSVG6   ALVP6JZRTEDY6     5.0  1538265600\n",
       "5074159  B01HJHSVG6   AZFPVUZOVGBYR     5.0  1538179200\n",
       "\n",
       "[5074160 rows x 4 columns]"
      ]
     },
     "execution_count": 3,
     "metadata": {},
     "output_type": "execute_result"
    }
   ],
   "source": [
    "data = pd.read_csv('/kaggle/input/amazonfooddataset/Grocery_and_Gourmet_Food.csv', header = None, index_col = None)\n",
    "data.columns = ['ProductId', 'UserId', 'Rating', 'Timestamp']\n",
    "data"
   ]
  },
  {
   "cell_type": "code",
   "execution_count": 4,
   "metadata": {
    "execution": {
     "iopub.execute_input": "2021-02-25T07:41:42.593773Z",
     "iopub.status.busy": "2021-02-25T07:41:42.592803Z",
     "iopub.status.idle": "2021-02-25T07:41:43.151253Z",
     "shell.execute_reply": "2021-02-25T07:41:43.151811Z"
    },
    "papermill": {
     "duration": 1.092053,
     "end_time": "2021-02-25T07:41:43.151987",
     "exception": false,
     "start_time": "2021-02-25T07:41:42.059934",
     "status": "completed"
    },
    "tags": []
   },
   "outputs": [
    {
     "data": {
      "text/plain": [
       "283507"
      ]
     },
     "execution_count": 4,
     "metadata": {},
     "output_type": "execute_result"
    }
   ],
   "source": [
    "# Number of unique product id - 283,507 \n",
    "\n",
    "data['ProductId'].nunique()"
   ]
  },
  {
   "cell_type": "markdown",
   "metadata": {
    "papermill": {
     "duration": 0.023993,
     "end_time": "2021-02-25T07:41:43.200333",
     "exception": false,
     "start_time": "2021-02-25T07:41:43.176340",
     "status": "completed"
    },
    "tags": []
   },
   "source": [
    "There could be two kinds of recommendation systems for the data like this:\n",
    "\n",
    "# 1. ProductId-based recommendation\n",
    "* We can use cosine_similarity package which is provided from sklearn (from sklearn.metrics.pairwise import cosine_similarity)\n",
    "* In this case, the similarity of the products would be calculated by each product's rating. In other words, the recommendation based on the ProductId is not a good approach since a rating doesn't represent the whole product feature.\n",
    "\n",
    "# 2. UserId-based recommendation\n",
    "\n",
    "* So we use 'UserId-based recommendation' for this data"
   ]
  },
  {
   "cell_type": "code",
   "execution_count": 5,
   "metadata": {
    "execution": {
     "iopub.execute_input": "2021-02-25T07:41:43.252462Z",
     "iopub.status.busy": "2021-02-25T07:41:43.251484Z",
     "iopub.status.idle": "2021-02-25T07:41:45.974924Z",
     "shell.execute_reply": "2021-02-25T07:41:45.975470Z"
    },
    "papermill": {
     "duration": 2.751274,
     "end_time": "2021-02-25T07:41:45.975683",
     "exception": false,
     "start_time": "2021-02-25T07:41:43.224409",
     "status": "completed"
    },
    "tags": []
   },
   "outputs": [
    {
     "data": {
      "text/plain": [
       "2695974"
      ]
     },
     "execution_count": 5,
     "metadata": {},
     "output_type": "execute_result"
    }
   ],
   "source": [
    "# Number of UserId - 2,695,974 \n",
    "\n",
    "data['UserId'].nunique()"
   ]
  },
  {
   "cell_type": "markdown",
   "metadata": {
    "papermill": {
     "duration": 0.024985,
     "end_time": "2021-02-25T07:41:46.025280",
     "exception": false,
     "start_time": "2021-02-25T07:41:46.000295",
     "status": "completed"
    },
    "tags": []
   },
   "source": [
    "# Top 30 Amazon Grocery & Gourmet food (1996~2018)\n",
    "* ProductId is ASIN number of Amazon product. Since the 'metadata' is too large to open here (and also, this notebook is just for showing the concept of recommendation system) I manually show the product by typing the ProductId on www.amazon.com/dp/ProductId"
   ]
  },
  {
   "cell_type": "code",
   "execution_count": 6,
   "metadata": {
    "execution": {
     "iopub.execute_input": "2021-02-25T07:41:46.078096Z",
     "iopub.status.busy": "2021-02-25T07:41:46.077420Z",
     "iopub.status.idle": "2021-02-25T07:41:47.716214Z",
     "shell.execute_reply": "2021-02-25T07:41:47.716665Z"
    },
    "papermill": {
     "duration": 1.666874,
     "end_time": "2021-02-25T07:41:47.716852",
     "exception": false,
     "start_time": "2021-02-25T07:41:46.049978",
     "status": "completed"
    },
    "tags": []
   },
   "outputs": [
    {
     "data": {
      "text/plain": [
       "ProductId\n",
       "B00BUKL666    11526\n",
       "B00542YXFW     9083\n",
       "B008QMX2SG     8903\n",
       "B00D3M2QP4     8880\n",
       "B000YN2GVY     7400\n",
       "B000X3TPHS     7310\n",
       "B01E5XTW24     7001\n",
       "B000F4DKAI     6862\n",
       "B0001LO3FG     6858\n",
       "B000EVMNMI     6323\n",
       "B002HQCWYM     6179\n",
       "B00DS842HS     6131\n",
       "B000Z93FQC     5980\n",
       "B00CPZPYLS     5591\n",
       "B000H2XXRS     5562\n",
       "B00PFDH0IC     5507\n",
       "B00EDHW7K2     5393\n",
       "B00C1LXBFC     5311\n",
       "B00M2OGS08     5251\n",
       "B003OGKCDC     5012\n",
       "B00XA8XWGS     4870\n",
       "B005K4Q1T0     4838\n",
       "B007JINB0W     4738\n",
       "B006CNTR6W     4670\n",
       "B00KCCKV8W     4635\n",
       "B006IOKA9S     4631\n",
       "B00WBUX2UM     4622\n",
       "B00R7PWK7W     4617\n",
       "B0014WYXYW     4550\n",
       "B0010BQB6A     4320\n",
       "Name: UserId, dtype: int64"
      ]
     },
     "execution_count": 6,
     "metadata": {},
     "output_type": "execute_result"
    }
   ],
   "source": [
    "product_count = data.groupby('ProductId')['UserId'].count()\n",
    "product_count.sort_values(ascending = False).head(30)"
   ]
  },
  {
   "cell_type": "markdown",
   "metadata": {
    "papermill": {
     "duration": 0.024763,
     "end_time": "2021-02-25T07:41:47.766588",
     "exception": false,
     "start_time": "2021-02-25T07:41:47.741825",
     "status": "completed"
    },
    "tags": []
   },
   "source": [
    "# FYI\n",
    "\n",
    "* Number 1 product : www.amazon.com/dp/B00BUKL666 (KIND healthy grains bar. Not suprised)\n",
    "\n",
    "* Number 2 product : www.amazon.com/dp/B00542YXFW (a bag of some tea. Interesting)\n",
    "\n",
    "* Number 3 product : www.amazon.com/dp/B008QMX2SG (another category for KIND healthy snack)\n",
    "\n",
    "* Number 4 product : www.amazon.com/dp/B00D3M2QP4 (again, another category for KIND healthy snack. Please note that I'm not related with the brand at all.)\n",
    "\n",
    "* Number 5 product : www.amazon.com/dp/B000YN2GVY (Organic unfiltered apple cider vinegar. Many people(especially Americans) like apple cider vinegar. Not surprised)\n",
    "\n",
    "\n"
   ]
  },
  {
   "cell_type": "markdown",
   "metadata": {
    "papermill": {
     "duration": 0.024774,
     "end_time": "2021-02-25T07:41:47.816408",
     "exception": false,
     "start_time": "2021-02-25T07:41:47.791634",
     "status": "completed"
    },
    "tags": []
   },
   "source": [
    "# Now, I am adding myself to the data and will see how the model recommends foods for me"
   ]
  },
  {
   "cell_type": "code",
   "execution_count": 7,
   "metadata": {
    "execution": {
     "iopub.execute_input": "2021-02-25T07:41:47.870234Z",
     "iopub.status.busy": "2021-02-25T07:41:47.869496Z",
     "iopub.status.idle": "2021-02-25T07:41:48.642950Z",
     "shell.execute_reply": "2021-02-25T07:41:48.643442Z"
    },
    "papermill": {
     "duration": 0.801922,
     "end_time": "2021-02-25T07:41:48.643623",
     "exception": false,
     "start_time": "2021-02-25T07:41:47.841701",
     "status": "completed"
    },
    "tags": []
   },
   "outputs": [
    {
     "data": {
      "text/plain": [
       "(array([4734160, 4734161, 4734162, 4734163, 4734164, 4734165, 4734166,\n",
       "        4734167]),)"
      ]
     },
     "execution_count": 7,
     "metadata": {},
     "output_type": "execute_result"
    }
   ],
   "source": [
    "# First, I have to lookup the product I want to add before I add it into the data (because the data don't have product launched after 2018)\n",
    "# I used the ASIN code for Monster Energy Zero Ultra(B00MEFXEB6) and it was in the data.\n",
    "\n",
    "np.where(data.ProductId=='B00MEFXEB6')"
   ]
  },
  {
   "cell_type": "code",
   "execution_count": 8,
   "metadata": {
    "execution": {
     "iopub.execute_input": "2021-02-25T07:41:48.698959Z",
     "iopub.status.busy": "2021-02-25T07:41:48.698334Z",
     "iopub.status.idle": "2021-02-25T07:41:48.705157Z",
     "shell.execute_reply": "2021-02-25T07:41:48.704488Z"
    },
    "papermill": {
     "duration": 0.035372,
     "end_time": "2021-02-25T07:41:48.705300",
     "exception": false,
     "start_time": "2021-02-25T07:41:48.669928",
     "status": "completed"
    },
    "tags": []
   },
   "outputs": [],
   "source": [
    "# My top 5 favorite foods converted to ASIN number (most of those selected from Top 30)\n",
    "\n",
    "# Energy drink, Coconut Oil,Sparkling Juice, Matcha Green Tea Powder, Beef Jerkey\n",
    "\n",
    "my_favorite = ['B00MEFXEB6', 'B000H2XXRS', 'B0014WYXYW','B00PFDH0IC', 'B000GW0U9I']\n",
    "my_foodlist = pd.DataFrame({'UserId' : ['yohann'] * 5, 'Rating' : [5] * 5 , 'Timestamp' : [12345678] *5, 'ProductId': ['B00MEFXEB6', 'B000H2XXRS', 'B0014WYXYW','B00PFDH0IC', 'B000GW0U9I']})\n"
   ]
  },
  {
   "cell_type": "code",
   "execution_count": 9,
   "metadata": {
    "execution": {
     "iopub.execute_input": "2021-02-25T07:41:48.762517Z",
     "iopub.status.busy": "2021-02-25T07:41:48.761817Z",
     "iopub.status.idle": "2021-02-25T07:41:49.643003Z",
     "shell.execute_reply": "2021-02-25T07:41:49.642481Z"
    },
    "papermill": {
     "duration": 0.912297,
     "end_time": "2021-02-25T07:41:49.643184",
     "exception": false,
     "start_time": "2021-02-25T07:41:48.730887",
     "status": "completed"
    },
    "tags": []
   },
   "outputs": [
    {
     "data": {
      "text/html": [
       "<div>\n",
       "<style scoped>\n",
       "    .dataframe tbody tr th:only-of-type {\n",
       "        vertical-align: middle;\n",
       "    }\n",
       "\n",
       "    .dataframe tbody tr th {\n",
       "        vertical-align: top;\n",
       "    }\n",
       "\n",
       "    .dataframe thead th {\n",
       "        text-align: right;\n",
       "    }\n",
       "</style>\n",
       "<table border=\"1\" class=\"dataframe\">\n",
       "  <thead>\n",
       "    <tr style=\"text-align: right;\">\n",
       "      <th></th>\n",
       "      <th>ProductId</th>\n",
       "      <th>UserId</th>\n",
       "      <th>Rating</th>\n",
       "      <th>Timestamp</th>\n",
       "    </tr>\n",
       "  </thead>\n",
       "  <tbody>\n",
       "    <tr>\n",
       "      <th>5074155</th>\n",
       "      <td>B01HJHSVG6</td>\n",
       "      <td>AGOPF2VTEOP57</td>\n",
       "      <td>5.0</td>\n",
       "      <td>1538611200</td>\n",
       "    </tr>\n",
       "    <tr>\n",
       "      <th>5074156</th>\n",
       "      <td>B01HJHSVG6</td>\n",
       "      <td>A5X5TI4JCH9CN</td>\n",
       "      <td>3.0</td>\n",
       "      <td>1538524800</td>\n",
       "    </tr>\n",
       "    <tr>\n",
       "      <th>5074157</th>\n",
       "      <td>B01HJHSVG6</td>\n",
       "      <td>A1WMQQLC3TVAFI</td>\n",
       "      <td>4.0</td>\n",
       "      <td>1538438400</td>\n",
       "    </tr>\n",
       "    <tr>\n",
       "      <th>5074158</th>\n",
       "      <td>B01HJHSVG6</td>\n",
       "      <td>ALVP6JZRTEDY6</td>\n",
       "      <td>5.0</td>\n",
       "      <td>1538265600</td>\n",
       "    </tr>\n",
       "    <tr>\n",
       "      <th>5074159</th>\n",
       "      <td>B01HJHSVG6</td>\n",
       "      <td>AZFPVUZOVGBYR</td>\n",
       "      <td>5.0</td>\n",
       "      <td>1538179200</td>\n",
       "    </tr>\n",
       "    <tr>\n",
       "      <th>0</th>\n",
       "      <td>B00MEFXEB6</td>\n",
       "      <td>yohann</td>\n",
       "      <td>5.0</td>\n",
       "      <td>12345678</td>\n",
       "    </tr>\n",
       "    <tr>\n",
       "      <th>1</th>\n",
       "      <td>B000H2XXRS</td>\n",
       "      <td>yohann</td>\n",
       "      <td>5.0</td>\n",
       "      <td>12345678</td>\n",
       "    </tr>\n",
       "    <tr>\n",
       "      <th>2</th>\n",
       "      <td>B0014WYXYW</td>\n",
       "      <td>yohann</td>\n",
       "      <td>5.0</td>\n",
       "      <td>12345678</td>\n",
       "    </tr>\n",
       "    <tr>\n",
       "      <th>3</th>\n",
       "      <td>B00PFDH0IC</td>\n",
       "      <td>yohann</td>\n",
       "      <td>5.0</td>\n",
       "      <td>12345678</td>\n",
       "    </tr>\n",
       "    <tr>\n",
       "      <th>4</th>\n",
       "      <td>B000GW0U9I</td>\n",
       "      <td>yohann</td>\n",
       "      <td>5.0</td>\n",
       "      <td>12345678</td>\n",
       "    </tr>\n",
       "  </tbody>\n",
       "</table>\n",
       "</div>"
      ],
      "text/plain": [
       "          ProductId          UserId  Rating   Timestamp\n",
       "5074155  B01HJHSVG6   AGOPF2VTEOP57     5.0  1538611200\n",
       "5074156  B01HJHSVG6   A5X5TI4JCH9CN     3.0  1538524800\n",
       "5074157  B01HJHSVG6  A1WMQQLC3TVAFI     4.0  1538438400\n",
       "5074158  B01HJHSVG6   ALVP6JZRTEDY6     5.0  1538265600\n",
       "5074159  B01HJHSVG6   AZFPVUZOVGBYR     5.0  1538179200\n",
       "0        B00MEFXEB6          yohann     5.0    12345678\n",
       "1        B000H2XXRS          yohann     5.0    12345678\n",
       "2        B0014WYXYW          yohann     5.0    12345678\n",
       "3        B00PFDH0IC          yohann     5.0    12345678\n",
       "4        B000GW0U9I          yohann     5.0    12345678"
      ]
     },
     "execution_count": 9,
     "metadata": {},
     "output_type": "execute_result"
    }
   ],
   "source": [
    "if not data.isin({'UserId' : ['yohann']})['UserId'].any():\n",
    "    data = data.append(my_foodlist)\n",
    "    \n",
    "data.tail(10)"
   ]
  },
  {
   "cell_type": "code",
   "execution_count": 10,
   "metadata": {
    "execution": {
     "iopub.execute_input": "2021-02-25T07:41:50.060282Z",
     "iopub.status.busy": "2021-02-25T07:41:50.059504Z",
     "iopub.status.idle": "2021-02-25T07:41:53.492793Z",
     "shell.execute_reply": "2021-02-25T07:41:53.492163Z"
    },
    "papermill": {
     "duration": 3.823299,
     "end_time": "2021-02-25T07:41:53.492937",
     "exception": false,
     "start_time": "2021-02-25T07:41:49.669638",
     "status": "completed"
    },
    "tags": []
   },
   "outputs": [
    {
     "name": "stdout",
     "output_type": "stream",
     "text": [
      "2695974\n"
     ]
    }
   ],
   "source": [
    "# Finding an unique user and product\n",
    "\n",
    "user_unique = data['UserId'].unique()\n",
    "product_unique = data['ProductId'].unique()\n",
    "\n",
    "# indexing the users and products\n",
    "\n",
    "user_to_idx = {v:k for k,v in enumerate(user_unique)}\n",
    "product_to_idx = {v:k for k,v in enumerate(product_unique)}\n",
    "\n",
    "print(user_to_idx['yohann'])"
   ]
  },
  {
   "cell_type": "markdown",
   "metadata": {
    "papermill": {
     "duration": 0.02678,
     "end_time": "2021-02-25T07:41:53.546703",
     "exception": false,
     "start_time": "2021-02-25T07:41:53.519923",
     "status": "completed"
    },
    "tags": []
   },
   "source": [
    "# building a CSR Matrix"
   ]
  },
  {
   "cell_type": "code",
   "execution_count": 11,
   "metadata": {
    "execution": {
     "iopub.execute_input": "2021-02-25T07:41:53.704433Z",
     "iopub.status.busy": "2021-02-25T07:41:53.703304Z",
     "iopub.status.idle": "2021-02-25T07:42:00.620476Z",
     "shell.execute_reply": "2021-02-25T07:42:00.619349Z"
    },
    "papermill": {
     "duration": 7.047172,
     "end_time": "2021-02-25T07:42:00.620691",
     "exception": false,
     "start_time": "2021-02-25T07:41:53.573519",
     "status": "completed"
    },
    "tags": []
   },
   "outputs": [
    {
     "name": "stdout",
     "output_type": "stream",
     "text": [
      "UserId Column Indexing Completed.\n",
      "Product Column Indexing Completed.\n"
     ]
    },
    {
     "data": {
      "text/html": [
       "<div>\n",
       "<style scoped>\n",
       "    .dataframe tbody tr th:only-of-type {\n",
       "        vertical-align: middle;\n",
       "    }\n",
       "\n",
       "    .dataframe tbody tr th {\n",
       "        vertical-align: top;\n",
       "    }\n",
       "\n",
       "    .dataframe thead th {\n",
       "        text-align: right;\n",
       "    }\n",
       "</style>\n",
       "<table border=\"1\" class=\"dataframe\">\n",
       "  <thead>\n",
       "    <tr style=\"text-align: right;\">\n",
       "      <th></th>\n",
       "      <th>ProductId</th>\n",
       "      <th>UserId</th>\n",
       "      <th>Rating</th>\n",
       "      <th>Timestamp</th>\n",
       "    </tr>\n",
       "  </thead>\n",
       "  <tbody>\n",
       "    <tr>\n",
       "      <th>0</th>\n",
       "      <td>0</td>\n",
       "      <td>0</td>\n",
       "      <td>5.0</td>\n",
       "      <td>1370304000</td>\n",
       "    </tr>\n",
       "    <tr>\n",
       "      <th>1</th>\n",
       "      <td>0</td>\n",
       "      <td>1</td>\n",
       "      <td>4.0</td>\n",
       "      <td>1400803200</td>\n",
       "    </tr>\n",
       "    <tr>\n",
       "      <th>2</th>\n",
       "      <td>0</td>\n",
       "      <td>2</td>\n",
       "      <td>4.0</td>\n",
       "      <td>1399593600</td>\n",
       "    </tr>\n",
       "    <tr>\n",
       "      <th>3</th>\n",
       "      <td>0</td>\n",
       "      <td>3</td>\n",
       "      <td>5.0</td>\n",
       "      <td>1397952000</td>\n",
       "    </tr>\n",
       "    <tr>\n",
       "      <th>4</th>\n",
       "      <td>0</td>\n",
       "      <td>4</td>\n",
       "      <td>4.0</td>\n",
       "      <td>1397606400</td>\n",
       "    </tr>\n",
       "    <tr>\n",
       "      <th>...</th>\n",
       "      <td>...</td>\n",
       "      <td>...</td>\n",
       "      <td>...</td>\n",
       "      <td>...</td>\n",
       "    </tr>\n",
       "    <tr>\n",
       "      <th>0</th>\n",
       "      <td>215176</td>\n",
       "      <td>2695974</td>\n",
       "      <td>5.0</td>\n",
       "      <td>12345678</td>\n",
       "    </tr>\n",
       "    <tr>\n",
       "      <th>1</th>\n",
       "      <td>3548</td>\n",
       "      <td>2695974</td>\n",
       "      <td>5.0</td>\n",
       "      <td>12345678</td>\n",
       "    </tr>\n",
       "    <tr>\n",
       "      <th>2</th>\n",
       "      <td>8407</td>\n",
       "      <td>2695974</td>\n",
       "      <td>5.0</td>\n",
       "      <td>12345678</td>\n",
       "    </tr>\n",
       "    <tr>\n",
       "      <th>3</th>\n",
       "      <td>48734</td>\n",
       "      <td>2695974</td>\n",
       "      <td>5.0</td>\n",
       "      <td>12345678</td>\n",
       "    </tr>\n",
       "    <tr>\n",
       "      <th>4</th>\n",
       "      <td>3355</td>\n",
       "      <td>2695974</td>\n",
       "      <td>5.0</td>\n",
       "      <td>12345678</td>\n",
       "    </tr>\n",
       "  </tbody>\n",
       "</table>\n",
       "<p>5074165 rows × 4 columns</p>\n",
       "</div>"
      ],
      "text/plain": [
       "    ProductId   UserId  Rating   Timestamp\n",
       "0           0        0     5.0  1370304000\n",
       "1           0        1     4.0  1400803200\n",
       "2           0        2     4.0  1399593600\n",
       "3           0        3     5.0  1397952000\n",
       "4           0        4     4.0  1397606400\n",
       "..        ...      ...     ...         ...\n",
       "0      215176  2695974     5.0    12345678\n",
       "1        3548  2695974     5.0    12345678\n",
       "2        8407  2695974     5.0    12345678\n",
       "3       48734  2695974     5.0    12345678\n",
       "4        3355  2695974     5.0    12345678\n",
       "\n",
       "[5074165 rows x 4 columns]"
      ]
     },
     "execution_count": 11,
     "metadata": {},
     "output_type": "execute_result"
    }
   ],
   "source": [
    "# Indexing\n",
    "\n",
    "temp_user_data = data['UserId'].map(user_to_idx.get).dropna()\n",
    "\n",
    "if len(temp_user_data) == len(data):   \n",
    "    print('UserId Column Indexing Completed.')\n",
    "    data['UserId'] = temp_user_data   \n",
    "else:\n",
    "    print('UserId Column Indexing Failed.')\n",
    "\n",
    "# Same on the product\n",
    "\n",
    "temp_product_data = data['ProductId'].map(product_to_idx.get).dropna()\n",
    "if len(temp_product_data) == len(data):\n",
    "    print('Product Column Indexing Completed.')\n",
    "    data['ProductId'] = temp_product_data\n",
    "else:\n",
    "    print('Product Column Indexing Failed.')\n",
    "    \n",
    "\n",
    "data"
   ]
  },
  {
   "cell_type": "markdown",
   "metadata": {
    "papermill": {
     "duration": 0.029359,
     "end_time": "2021-02-25T07:42:00.688998",
     "exception": false,
     "start_time": "2021-02-25T07:42:00.659639",
     "status": "completed"
    },
    "tags": []
   },
   "source": [
    "# Compressed Sparse Row Matrix\n",
    "\n",
    "UserId x Product matrix requires huge memories. \n",
    "\n",
    "Furthermore, the calculation will also contains the product information that the user doesn't like.\n",
    "\n",
    "So, in order to minimize the memory loss, I only used the product that the user likes. \n"
   ]
  },
  {
   "cell_type": "code",
   "execution_count": 12,
   "metadata": {
    "execution": {
     "iopub.execute_input": "2021-02-25T07:42:00.763486Z",
     "iopub.status.busy": "2021-02-25T07:42:00.762558Z",
     "iopub.status.idle": "2021-02-25T07:42:01.663358Z",
     "shell.execute_reply": "2021-02-25T07:42:01.662816Z"
    },
    "papermill": {
     "duration": 0.941166,
     "end_time": "2021-02-25T07:42:01.663513",
     "exception": false,
     "start_time": "2021-02-25T07:42:00.722347",
     "status": "completed"
    },
    "tags": []
   },
   "outputs": [
    {
     "data": {
      "text/plain": [
       "<2695975x283507 sparse matrix of type '<class 'numpy.float64'>'\n",
       "\twith 4889629 stored elements in Compressed Sparse Row format>"
      ]
     },
     "execution_count": 12,
     "metadata": {},
     "output_type": "execute_result"
    }
   ],
   "source": [
    "#CSR MATRIX\n",
    "\n",
    "from scipy.sparse import csr_matrix\n",
    "\n",
    "num_user = data['UserId'].nunique()\n",
    "num_product = data['ProductId'].nunique()\n",
    "\n",
    "csr_data = csr_matrix((data['Rating'], (data.UserId, data.ProductId)), shape= (num_user, num_product))\n",
    "csr_data"
   ]
  },
  {
   "cell_type": "markdown",
   "metadata": {
    "papermill": {
     "duration": 0.028741,
     "end_time": "2021-02-25T07:42:01.721656",
     "exception": false,
     "start_time": "2021-02-25T07:42:01.692915",
     "status": "completed"
    },
    "tags": []
   },
   "source": [
    "# Using ALS (Alternating Least Squares) model\n",
    "\n",
    "I used the package called 'implicit' (als model)\n",
    "\n",
    "Two feature matrices came from Matrix Factorization are hard to train all at once. So this ALS model fixes one side and train the other side alternately."
   ]
  },
  {
   "cell_type": "code",
   "execution_count": 13,
   "metadata": {
    "execution": {
     "iopub.execute_input": "2021-02-25T07:42:01.787777Z",
     "iopub.status.busy": "2021-02-25T07:42:01.786778Z",
     "iopub.status.idle": "2021-02-25T07:42:01.986175Z",
     "shell.execute_reply": "2021-02-25T07:42:01.985379Z"
    },
    "papermill": {
     "duration": 0.235691,
     "end_time": "2021-02-25T07:42:01.986338",
     "exception": false,
     "start_time": "2021-02-25T07:42:01.750647",
     "status": "completed"
    },
    "tags": []
   },
   "outputs": [
    {
     "data": {
      "text/plain": [
       "<283507x2695975 sparse matrix of type '<class 'numpy.float64'>'\n",
       "\twith 4889629 stored elements in Compressed Sparse Column format>"
      ]
     },
     "execution_count": 13,
     "metadata": {},
     "output_type": "execute_result"
    }
   ],
   "source": [
    "from implicit.als import AlternatingLeastSquares\n",
    "import os\n",
    "import numpy as np\n",
    "\n",
    "# recommended part from the implicit package:\n",
    "\n",
    "os.environ['OPENBLAS_NUM_THREAD'] = '1'\n",
    "os.environ['KMP_DUPLICATE_LIB_OK'] = 'True'\n",
    "os.environ['MKL_NUM_THREADS'] = '1'\n",
    "\n",
    "\n",
    "# ALS class's __init__ parameters:\n",
    "\n",
    "# 1. factors : the dimension of UserId x Product vector.\n",
    "# 2. regularization : for preventing overfitting problem. Using regularization. 0.01 is okay in general.\n",
    "# 3. use_gpu : usage of GPU \n",
    "# 4. iterations : it is like 'epoch' \n",
    "\n",
    "als_model = AlternatingLeastSquares(factors = 100, regularization = 0.01, use_gpu = False, iterations = 15,\n",
    "                                   dtype = np.float32)\n",
    "\n",
    "# ALS model takes 'Product x User' matrix as an input, so we have to convert it (Transpose)\n",
    "\n",
    "csr_data_transpose = csr_data.T\n",
    "csr_data_transpose"
   ]
  },
  {
   "cell_type": "markdown",
   "metadata": {
    "papermill": {
     "duration": 0.029288,
     "end_time": "2021-02-25T07:42:02.045986",
     "exception": false,
     "start_time": "2021-02-25T07:42:02.016698",
     "status": "completed"
    },
    "tags": []
   },
   "source": [
    "# Train ALS model (it will take few mins)"
   ]
  },
  {
   "cell_type": "code",
   "execution_count": 14,
   "metadata": {
    "execution": {
     "iopub.execute_input": "2021-02-25T07:42:02.112370Z",
     "iopub.status.busy": "2021-02-25T07:42:02.111524Z",
     "iopub.status.idle": "2021-02-25T08:13:07.944622Z",
     "shell.execute_reply": "2021-02-25T08:13:07.945239Z"
    },
    "papermill": {
     "duration": 1865.869198,
     "end_time": "2021-02-25T08:13:07.945481",
     "exception": false,
     "start_time": "2021-02-25T07:42:02.076283",
     "status": "completed"
    },
    "tags": []
   },
   "outputs": [
    {
     "data": {
      "application/vnd.jupyter.widget-view+json": {
       "model_id": "979188806f61457d94c825af19b4dfd0",
       "version_major": 2,
       "version_minor": 0
      },
      "text/plain": [
       "  0%|          | 0/15 [00:00<?, ?it/s]"
      ]
     },
     "metadata": {},
     "output_type": "display_data"
    }
   ],
   "source": [
    "als_model.fit(csr_data_transpose)"
   ]
  },
  {
   "cell_type": "markdown",
   "metadata": {
    "papermill": {
     "duration": 0.029493,
     "end_time": "2021-02-25T08:13:08.004673",
     "exception": false,
     "start_time": "2021-02-25T08:13:07.975180",
     "status": "completed"
    },
    "tags": []
   },
   "source": [
    "# The expected preference of a new random product"
   ]
  },
  {
   "cell_type": "code",
   "execution_count": 15,
   "metadata": {
    "execution": {
     "iopub.execute_input": "2021-02-25T08:13:08.067522Z",
     "iopub.status.busy": "2021-02-25T08:13:08.066760Z",
     "iopub.status.idle": "2021-02-25T08:13:08.071154Z",
     "shell.execute_reply": "2021-02-25T08:13:08.071664Z"
    },
    "papermill": {
     "duration": 0.037387,
     "end_time": "2021-02-25T08:13:08.071829",
     "exception": false,
     "start_time": "2021-02-25T08:13:08.034442",
     "status": "completed"
    },
    "tags": []
   },
   "outputs": [],
   "source": [
    "yohann, monsterUltra  = user_to_idx['yohann'], product_to_idx['B00MEFXEB6']\n",
    "yohann_vector, monster_vector = als_model.user_factors[yohann], als_model.item_factors[monsterUltra]"
   ]
  },
  {
   "cell_type": "code",
   "execution_count": 16,
   "metadata": {
    "execution": {
     "iopub.execute_input": "2021-02-25T08:13:08.135685Z",
     "iopub.status.busy": "2021-02-25T08:13:08.135014Z",
     "iopub.status.idle": "2021-02-25T08:13:08.143954Z",
     "shell.execute_reply": "2021-02-25T08:13:08.144808Z"
    },
    "papermill": {
     "duration": 0.04342,
     "end_time": "2021-02-25T08:13:08.144989",
     "exception": false,
     "start_time": "2021-02-25T08:13:08.101569",
     "status": "completed"
    },
    "tags": []
   },
   "outputs": [
    {
     "data": {
      "text/plain": [
       "array([ 0.0280412 ,  0.00104707, -0.00725823,  0.0004568 ,  0.01394059,\n",
       "        0.02044821,  0.02471047, -0.05008356,  0.00011146,  0.01103988,\n",
       "       -0.0115184 ,  0.01607864, -0.02289671, -0.0829011 , -0.02958436,\n",
       "       -0.02477126,  0.01996651, -0.01480245, -0.07213052,  0.01306678,\n",
       "        0.07175541,  0.05391318,  0.01183824, -0.02164719,  0.00419191,\n",
       "        0.01187771,  0.00639431,  0.0021899 , -0.01308006,  0.0035989 ,\n",
       "       -0.02674981,  0.03976754,  0.02036567, -0.00060093, -0.0131316 ,\n",
       "        0.00552269, -0.01331506, -0.01058685, -0.02853989, -0.02680918,\n",
       "        0.0579425 , -0.06159671, -0.02601128, -0.00120092, -0.0089854 ,\n",
       "        0.06422527,  0.03516239,  0.00461997,  0.02568302,  0.06078439,\n",
       "       -0.09329107,  0.00976146, -0.02413942, -0.03849553, -0.029462  ,\n",
       "        0.00942253, -0.01624532,  0.03458072,  0.02458128, -0.00832511,\n",
       "        0.02390402, -0.0147893 ,  0.03759838, -0.0675895 ,  0.00762251,\n",
       "       -0.0125618 , -0.01111676, -0.02301624,  0.00684169, -0.02310418,\n",
       "        0.02870248,  0.000509  , -0.0001475 ,  0.01223119,  0.01621186,\n",
       "        0.01419033, -0.01278779,  0.04604885,  0.01014881, -0.02548215,\n",
       "        0.02870043,  0.02467835,  0.02979336,  0.01013027, -0.00877367,\n",
       "        0.0218352 ,  0.01400761,  0.00481644,  0.01608904, -0.01007384,\n",
       "       -0.05252103, -0.02806992, -0.02990909, -0.01951474,  0.01629404,\n",
       "        0.03164083,  0.00442818, -0.00473585, -0.00300234,  0.0332268 ],\n",
       "      dtype=float32)"
      ]
     },
     "execution_count": 16,
     "metadata": {},
     "output_type": "execute_result"
    }
   ],
   "source": [
    "yohann_vector"
   ]
  },
  {
   "cell_type": "code",
   "execution_count": 17,
   "metadata": {
    "execution": {
     "iopub.execute_input": "2021-02-25T08:13:08.211887Z",
     "iopub.status.busy": "2021-02-25T08:13:08.211238Z",
     "iopub.status.idle": "2021-02-25T08:13:08.215556Z",
     "shell.execute_reply": "2021-02-25T08:13:08.215055Z"
    },
    "papermill": {
     "duration": 0.040686,
     "end_time": "2021-02-25T08:13:08.215697",
     "exception": false,
     "start_time": "2021-02-25T08:13:08.175011",
     "status": "completed"
    },
    "tags": []
   },
   "outputs": [
    {
     "data": {
      "text/plain": [
       "array([ 2.25261529e-03,  4.11143003e-04,  4.51144646e-04,  1.58105313e-03,\n",
       "        9.09029390e-04,  3.19979386e-03,  1.66182965e-03, -1.01429340e-03,\n",
       "       -3.76790937e-04,  6.50849310e-04,  1.30004797e-03,  9.88679007e-04,\n",
       "       -2.88301148e-04, -8.30486068e-04,  2.00724593e-04,  2.36375665e-04,\n",
       "        1.46773667e-03,  1.45195983e-03, -5.64904010e-04,  4.06403502e-04,\n",
       "        2.11686641e-03,  2.66070385e-03,  4.08441818e-04, -2.38084438e-04,\n",
       "        6.27423229e-04,  1.74646033e-04,  4.75943059e-04,  9.11708863e-04,\n",
       "       -8.08945857e-04,  1.37352129e-03, -1.65675185e-04,  1.44594896e-03,\n",
       "        3.74452560e-04,  1.54924998e-03, -2.67698022e-04, -1.50516746e-04,\n",
       "        2.96741400e-05,  8.30553297e-04,  7.40485557e-04, -2.96874117e-04,\n",
       "        2.38940725e-03, -5.98842860e-04,  1.00615245e-04,  6.97613214e-05,\n",
       "        1.16786272e-04,  2.83348467e-03,  2.16831267e-03,  3.74045601e-04,\n",
       "       -3.80468380e-04,  1.32308435e-03, -1.63133699e-03,  1.38906692e-03,\n",
       "       -6.81236270e-04, -4.34698450e-04, -4.75502748e-04,  2.02206007e-04,\n",
       "        6.35015895e-05,  1.71901681e-03,  1.15636410e-03, -7.55348156e-05,\n",
       "        1.22171675e-03, -1.95165354e-04,  1.19122770e-03, -1.12421636e-03,\n",
       "        2.90315133e-04,  1.30763208e-03,  2.04815966e-04,  6.22114312e-05,\n",
       "        1.38750288e-03,  7.81581330e-05,  3.04433750e-03,  2.13019055e-04,\n",
       "        1.27896701e-03,  1.61545206e-04,  6.49714784e-04,  1.60039891e-03,\n",
       "        5.91258751e-04,  9.97848474e-05,  1.62300910e-03,  5.37031388e-04,\n",
       "        5.99777384e-04,  3.28760920e-03,  1.79275114e-03,  4.82123753e-04,\n",
       "        1.10735034e-03,  7.20988493e-04,  1.22624962e-03,  3.26979398e-06,\n",
       "        1.27075764e-03,  5.36261941e-04, -8.91776581e-04,  5.03326009e-04,\n",
       "       -1.42356657e-04, -3.06414324e-04,  2.87081959e-04,  1.73084764e-03,\n",
       "        5.67375449e-04,  1.56137941e-03,  4.94137465e-04,  1.77603890e-03],\n",
       "      dtype=float32)"
      ]
     },
     "execution_count": 17,
     "metadata": {},
     "output_type": "execute_result"
    }
   ],
   "source": [
    "monster_vector"
   ]
  },
  {
   "cell_type": "code",
   "execution_count": 18,
   "metadata": {
    "execution": {
     "iopub.execute_input": "2021-02-25T08:13:08.283874Z",
     "iopub.status.busy": "2021-02-25T08:13:08.282701Z",
     "iopub.status.idle": "2021-02-25T08:13:08.286050Z",
     "shell.execute_reply": "2021-02-25T08:13:08.286538Z"
    },
    "papermill": {
     "duration": 0.040282,
     "end_time": "2021-02-25T08:13:08.286710",
     "exception": false,
     "start_time": "2021-02-25T08:13:08.246428",
     "status": "completed"
    },
    "tags": []
   },
   "outputs": [
    {
     "data": {
      "text/plain": [
       "0.002155561"
      ]
     },
     "execution_count": 18,
     "metadata": {},
     "output_type": "execute_result"
    }
   ],
   "source": [
    "# the dot product of Yohann and Monster vector (my preference for Monster drink)\n",
    "\n",
    "np.dot(yohann_vector, monster_vector)"
   ]
  },
  {
   "cell_type": "code",
   "execution_count": 19,
   "metadata": {
    "execution": {
     "iopub.execute_input": "2021-02-25T08:13:08.355647Z",
     "iopub.status.busy": "2021-02-25T08:13:08.354982Z",
     "iopub.status.idle": "2021-02-25T08:13:08.359002Z",
     "shell.execute_reply": "2021-02-25T08:13:08.359599Z"
    },
    "papermill": {
     "duration": 0.041986,
     "end_time": "2021-02-25T08:13:08.359764",
     "exception": false,
     "start_time": "2021-02-25T08:13:08.317778",
     "status": "completed"
    },
    "tags": []
   },
   "outputs": [
    {
     "data": {
      "text/plain": [
       "0.0011508199"
      ]
     },
     "execution_count": 19,
     "metadata": {},
     "output_type": "execute_result"
    }
   ],
   "source": [
    "# the expected preference of 'Yohann and Kind bar' (which was not added on my favorite list)\n",
    "\n",
    "kindbar = product_to_idx['B00BUKL666']\n",
    "kindbar_vector = als_model.item_factors[kindbar]\n",
    "np.dot(yohann_vector, kindbar_vector)"
   ]
  },
  {
   "cell_type": "markdown",
   "metadata": {
    "papermill": {
     "duration": 0.030655,
     "end_time": "2021-02-25T08:13:08.421772",
     "exception": false,
     "start_time": "2021-02-25T08:13:08.391117",
     "status": "completed"
    },
    "tags": []
   },
   "source": [
    "# Recommendation from the model 1 (based on the similar product)"
   ]
  },
  {
   "cell_type": "code",
   "execution_count": 20,
   "metadata": {
    "execution": {
     "iopub.execute_input": "2021-02-25T08:13:08.487536Z",
     "iopub.status.busy": "2021-02-25T08:13:08.486884Z",
     "iopub.status.idle": "2021-02-25T08:13:08.597539Z",
     "shell.execute_reply": "2021-02-25T08:13:08.598037Z"
    },
    "papermill": {
     "duration": 0.145229,
     "end_time": "2021-02-25T08:13:08.598227",
     "exception": false,
     "start_time": "2021-02-25T08:13:08.452998",
     "status": "completed"
    },
    "tags": []
   },
   "outputs": [
    {
     "data": {
      "text/plain": [
       "[(32660, 1.0000001),\n",
       " (175993, 0.96449995),\n",
       " (198644, 0.96158445),\n",
       " (122781, 0.96071243),\n",
       " (89471, 0.9596692),\n",
       " (200497, 0.9567569),\n",
       " (256278, 0.9521734),\n",
       " (106983, 0.9497872),\n",
       " (39371, 0.9488897),\n",
       " (198561, 0.9472875),\n",
       " (166749, 0.9461572),\n",
       " (65118, 0.94591475),\n",
       " (273168, 0.9458501),\n",
       " (252960, 0.9455037),\n",
       " (85820, 0.94547856)]"
      ]
     },
     "execution_count": 20,
     "metadata": {},
     "output_type": "execute_result"
    }
   ],
   "source": [
    "# Get recommendation similar to 'Kindbar'\n",
    "\n",
    "kindbar = 'B00BUKL666'\n",
    "product_id = product_to_idx[kindbar]\n",
    "\n",
    "similar_food = als_model.similar_items(product_id, N= 15)\n",
    "similar_food"
   ]
  },
  {
   "cell_type": "code",
   "execution_count": 21,
   "metadata": {
    "execution": {
     "iopub.execute_input": "2021-02-25T08:13:08.666715Z",
     "iopub.status.busy": "2021-02-25T08:13:08.665681Z",
     "iopub.status.idle": "2021-02-25T08:13:08.717085Z",
     "shell.execute_reply": "2021-02-25T08:13:08.717538Z"
    },
    "papermill": {
     "duration": 0.087216,
     "end_time": "2021-02-25T08:13:08.717717",
     "exception": false,
     "start_time": "2021-02-25T08:13:08.630501",
     "status": "completed"
    },
    "tags": []
   },
   "outputs": [
    {
     "data": {
      "text/plain": [
       "['B00BUKL666',\n",
       " 'B00F6UH8JK',\n",
       " 'B00J1NRROE',\n",
       " 'B005ZC3KSM',\n",
       " 'B001SAQ2IA',\n",
       " 'B00JD7MUJ0',\n",
       " 'B014INNQXW',\n",
       " 'B001F0BEZE',\n",
       " 'B00GFYV9WI',\n",
       " 'B00J1NLACE',\n",
       " 'B00DPEBFWA',\n",
       " 'B000E39T8W',\n",
       " 'B00IGHJGOU',\n",
       " 'B012BMQI28',\n",
       " 'B001JTIG48']"
      ]
     },
     "execution_count": 21,
     "metadata": {},
     "output_type": "execute_result"
    }
   ],
   "source": [
    "# Convert the indices to ASIN numbers\n",
    "\n",
    "idx_to_product = {v:k for k,v in product_to_idx.items()}\n",
    "[idx_to_product[i[0]] for i in similar_food]"
   ]
  },
  {
   "cell_type": "markdown",
   "metadata": {
    "papermill": {
     "duration": 0.032172,
     "end_time": "2021-02-25T08:13:08.782386",
     "exception": false,
     "start_time": "2021-02-25T08:13:08.750214",
     "status": "completed"
    },
    "tags": []
   },
   "source": [
    "# --------------------------------------------------------\n",
    "\n",
    "# Some recommendations seem reasonable:\n",
    "\n",
    "* https://www.amazon.com/dp/B00F6UH8JK - Hershey Special Dark Chocolate Topping\n",
    "* https://www.amazon.com/dp/B00F78I7ZK - Candy coated almonds\n",
    "\n",
    "\n",
    "# Some are not:\n",
    "\n",
    "* https://www.amazon.com/dp/B007NJFQ1O - Badia Mojo Marina \n",
    "* https://www.amazon.com/dp/B001F0BEZE - Biscuit cut Ham\n"
   ]
  },
  {
   "cell_type": "markdown",
   "metadata": {
    "papermill": {
     "duration": 0.032797,
     "end_time": "2021-02-25T08:13:08.849301",
     "exception": false,
     "start_time": "2021-02-25T08:13:08.816504",
     "status": "completed"
    },
    "tags": []
   },
   "source": [
    "# ---------------------------------------------------------\n",
    "\n",
    "# Recommendation from the model 2 (the food I might like) "
   ]
  },
  {
   "cell_type": "code",
   "execution_count": 22,
   "metadata": {
    "execution": {
     "iopub.execute_input": "2021-02-25T08:13:08.917977Z",
     "iopub.status.busy": "2021-02-25T08:13:08.917077Z",
     "iopub.status.idle": "2021-02-25T08:13:08.960104Z",
     "shell.execute_reply": "2021-02-25T08:13:08.960610Z"
    },
    "papermill": {
     "duration": 0.078892,
     "end_time": "2021-02-25T08:13:08.960783",
     "exception": false,
     "start_time": "2021-02-25T08:13:08.881891",
     "status": "completed"
    },
    "tags": []
   },
   "outputs": [
    {
     "data": {
      "text/plain": [
       "[(2502, 0.29457158),\n",
       " (3275, 0.2847087),\n",
       " (3283, 0.26859477),\n",
       " (21737, 0.2562136),\n",
       " (25583, 0.2234787),\n",
       " (53061, 0.22289169),\n",
       " (38624, 0.21818003),\n",
       " (8529, 0.20274155),\n",
       " (59187, 0.18623903),\n",
       " (27493, 0.17907582),\n",
       " (14273, 0.17361183),\n",
       " (12153, 0.16576426),\n",
       " (3761, 0.16268213),\n",
       " (13597, 0.15615922),\n",
       " (7400, 0.15563159),\n",
       " (54668, 0.14837888),\n",
       " (13871, 0.14748618),\n",
       " (7644, 0.14602089),\n",
       " (5745, 0.14441697),\n",
       " (9919, 0.14408919)]"
      ]
     },
     "execution_count": 22,
     "metadata": {},
     "output_type": "execute_result"
    }
   ],
   "source": [
    "user = user_to_idx['yohann']\n",
    "\n",
    "food_recommended = als_model.recommend(user, csr_data, N= 20, filter_already_liked_items = True)\n",
    "food_recommended"
   ]
  },
  {
   "cell_type": "code",
   "execution_count": 23,
   "metadata": {
    "execution": {
     "iopub.execute_input": "2021-02-25T08:13:09.030286Z",
     "iopub.status.busy": "2021-02-25T08:13:09.029313Z",
     "iopub.status.idle": "2021-02-25T08:13:09.036642Z",
     "shell.execute_reply": "2021-02-25T08:13:09.036061Z"
    },
    "papermill": {
     "duration": 0.043198,
     "end_time": "2021-02-25T08:13:09.036789",
     "exception": false,
     "start_time": "2021-02-25T08:13:08.993591",
     "status": "completed"
    },
    "tags": []
   },
   "outputs": [
    {
     "data": {
      "text/plain": [
       "['B000EVMNMI',\n",
       " 'B000GARX3G',\n",
       " 'B000GAT6NG',\n",
       " 'B0058AN1N0',\n",
       " 'B006VXU6ZO',\n",
       " 'B00XTVD9JG',\n",
       " 'B00FRTS2CW',\n",
       " 'B0015P54R8',\n",
       " 'B01CUW7HPG',\n",
       " 'B00819SSGK',\n",
       " 'B0029JU5SM',\n",
       " 'B001LG940E',\n",
       " 'B000HRS7OM',\n",
       " 'B001XSMANI',\n",
       " 'B000YGISMC',\n",
       " 'B012YAV43A',\n",
       " 'B0025WGHEE',\n",
       " 'B0010BQB6A',\n",
       " 'B000PDY3P0',\n",
       " 'B001E55ZQO']"
      ]
     },
     "execution_count": 23,
     "metadata": {},
     "output_type": "execute_result"
    }
   ],
   "source": [
    "[idx_to_product[i[0]] for i in food_recommended]"
   ]
  },
  {
   "cell_type": "markdown",
   "metadata": {
    "papermill": {
     "duration": 0.034072,
     "end_time": "2021-02-25T08:13:09.105295",
     "exception": false,
     "start_time": "2021-02-25T08:13:09.071223",
     "status": "completed"
    },
    "tags": []
   },
   "source": [
    "# --------------------------------------------------------\n",
    "\n",
    "# Some recommendations seem reasonable:\n",
    "\n",
    "* https://www.amazon.com/dp/B00HNTPF7E - organic coconut oil (different brand)\n",
    "* https://www.amazon.com/dp/B014LT0712 - organic matcha powder (different type)\n",
    "* https://www.amazon.com/dp/B001XUO8AY - tonic water\n",
    "\n",
    "# Some are not:\n",
    "\n",
    "https://www.amazon.com/dp/B0015DGDR0 - mentos mint flavor\n",
    "\n",
    "# --------------------------------------------------------"
   ]
  },
  {
   "cell_type": "code",
   "execution_count": 24,
   "metadata": {
    "execution": {
     "iopub.execute_input": "2021-02-25T08:13:09.179937Z",
     "iopub.status.busy": "2021-02-25T08:13:09.178870Z",
     "iopub.status.idle": "2021-02-25T08:13:10.830115Z",
     "shell.execute_reply": "2021-02-25T08:13:10.830995Z"
    },
    "papermill": {
     "duration": 1.692376,
     "end_time": "2021-02-25T08:13:10.831290",
     "exception": false,
     "start_time": "2021-02-25T08:13:09.138914",
     "status": "completed"
    },
    "tags": []
   },
   "outputs": [
    {
     "data": {
      "text/plain": [
       "[('B000H2XXRS', 0.8383105034926566),\n",
       " ('B00PFDH0IC', 0.002106246797757572),\n",
       " ('B00MEFXEB6', 0.00043891626462188937),\n",
       " ('B000GW0U9I', -0.003198341451185146),\n",
       " ('B0014WYXYW', -0.005469194224204648)]"
      ]
     },
     "execution_count": 24,
     "metadata": {},
     "output_type": "execute_result"
    }
   ],
   "source": [
    "# Contribution of the Coconut Oil for this recommendation\n",
    "\n",
    "coconut = product_to_idx['B000H2XXRS']\n",
    "explain = als_model.explain(user, csr_data, itemid = coconut)\n",
    "\n",
    "[(idx_to_product[i[0]], i[1]) for i in explain [1]]"
   ]
  },
  {
   "cell_type": "markdown",
   "metadata": {
    "papermill": {
     "duration": 0.043762,
     "end_time": "2021-02-25T08:13:10.936725",
     "exception": false,
     "start_time": "2021-02-25T08:13:10.892963",
     "status": "completed"
    },
    "tags": []
   },
   "source": [
    "# Overall\n",
    "\n",
    "So as you can see, the recommendation model does work. However, it is not very accurate since I didn't add enough data for the user 'yohann'. Besides, the model was only working on 'ratings'. Please note that this notebook is written for a part of the general concept of recommendation system. \n"
   ]
  },
  {
   "cell_type": "code",
   "execution_count": null,
   "metadata": {
    "papermill": {
     "duration": 0.033318,
     "end_time": "2021-02-25T08:13:11.003791",
     "exception": false,
     "start_time": "2021-02-25T08:13:10.970473",
     "status": "completed"
    },
    "tags": []
   },
   "outputs": [],
   "source": []
  }
 ],
 "metadata": {
  "kernelspec": {
   "display_name": "Python 3",
   "language": "python",
   "name": "python3"
  },
  "language_info": {
   "codemirror_mode": {
    "name": "ipython",
    "version": 3
   },
   "file_extension": ".py",
   "mimetype": "text/x-python",
   "name": "python",
   "nbconvert_exporter": "python",
   "pygments_lexer": "ipython3",
   "version": "3.7.9"
  },
  "papermill": {
   "default_parameters": {},
   "duration": 1910.396887,
   "end_time": "2021-02-25T08:13:12.350514",
   "environment_variables": {},
   "exception": null,
   "input_path": "__notebook__.ipynb",
   "output_path": "__notebook__.ipynb",
   "parameters": {},
   "start_time": "2021-02-25T07:41:21.953627",
   "version": "2.2.2"
  },
  "widgets": {
   "application/vnd.jupyter.widget-state+json": {
    "state": {
     "2a06d0f590254eb381fc4a19ffceacdd": {
      "model_module": "@jupyter-widgets/controls",
      "model_module_version": "1.5.0",
      "model_name": "HTMLModel",
      "state": {
       "_dom_classes": [],
       "_model_module": "@jupyter-widgets/controls",
       "_model_module_version": "1.5.0",
       "_model_name": "HTMLModel",
       "_view_count": null,
       "_view_module": "@jupyter-widgets/controls",
       "_view_module_version": "1.5.0",
       "_view_name": "HTMLView",
       "description": "",
       "description_tooltip": null,
       "layout": "IPY_MODEL_5302685a5a424254bcd3489e1cfafd30",
       "placeholder": "​",
       "style": "IPY_MODEL_7d3f3255878e417bb10aca3b02a62b06",
       "value": " 15/15 [31:00&lt;00:00, 123.43s/it]"
      }
     },
     "5302685a5a424254bcd3489e1cfafd30": {
      "model_module": "@jupyter-widgets/base",
      "model_module_version": "1.2.0",
      "model_name": "LayoutModel",
      "state": {
       "_model_module": "@jupyter-widgets/base",
       "_model_module_version": "1.2.0",
       "_model_name": "LayoutModel",
       "_view_count": null,
       "_view_module": "@jupyter-widgets/base",
       "_view_module_version": "1.2.0",
       "_view_name": "LayoutView",
       "align_content": null,
       "align_items": null,
       "align_self": null,
       "border": null,
       "bottom": null,
       "display": null,
       "flex": null,
       "flex_flow": null,
       "grid_area": null,
       "grid_auto_columns": null,
       "grid_auto_flow": null,
       "grid_auto_rows": null,
       "grid_column": null,
       "grid_gap": null,
       "grid_row": null,
       "grid_template_areas": null,
       "grid_template_columns": null,
       "grid_template_rows": null,
       "height": null,
       "justify_content": null,
       "justify_items": null,
       "left": null,
       "margin": null,
       "max_height": null,
       "max_width": null,
       "min_height": null,
       "min_width": null,
       "object_fit": null,
       "object_position": null,
       "order": null,
       "overflow": null,
       "overflow_x": null,
       "overflow_y": null,
       "padding": null,
       "right": null,
       "top": null,
       "visibility": null,
       "width": null
      }
     },
     "7631e5579a634f268fe13851704be698": {
      "model_module": "@jupyter-widgets/controls",
      "model_module_version": "1.5.0",
      "model_name": "DescriptionStyleModel",
      "state": {
       "_model_module": "@jupyter-widgets/controls",
       "_model_module_version": "1.5.0",
       "_model_name": "DescriptionStyleModel",
       "_view_count": null,
       "_view_module": "@jupyter-widgets/base",
       "_view_module_version": "1.2.0",
       "_view_name": "StyleView",
       "description_width": ""
      }
     },
     "7d3f3255878e417bb10aca3b02a62b06": {
      "model_module": "@jupyter-widgets/controls",
      "model_module_version": "1.5.0",
      "model_name": "DescriptionStyleModel",
      "state": {
       "_model_module": "@jupyter-widgets/controls",
       "_model_module_version": "1.5.0",
       "_model_name": "DescriptionStyleModel",
       "_view_count": null,
       "_view_module": "@jupyter-widgets/base",
       "_view_module_version": "1.2.0",
       "_view_name": "StyleView",
       "description_width": ""
      }
     },
     "979188806f61457d94c825af19b4dfd0": {
      "model_module": "@jupyter-widgets/controls",
      "model_module_version": "1.5.0",
      "model_name": "HBoxModel",
      "state": {
       "_dom_classes": [],
       "_model_module": "@jupyter-widgets/controls",
       "_model_module_version": "1.5.0",
       "_model_name": "HBoxModel",
       "_view_count": null,
       "_view_module": "@jupyter-widgets/controls",
       "_view_module_version": "1.5.0",
       "_view_name": "HBoxView",
       "box_style": "",
       "children": [
        "IPY_MODEL_b61ead4941634497a44a4ca6b7be9946",
        "IPY_MODEL_97c4b9e1af744ae0a18f7261680486ff",
        "IPY_MODEL_2a06d0f590254eb381fc4a19ffceacdd"
       ],
       "layout": "IPY_MODEL_9cb0ec7dc63d459bb4543ec6a12069f1"
      }
     },
     "97c4b9e1af744ae0a18f7261680486ff": {
      "model_module": "@jupyter-widgets/controls",
      "model_module_version": "1.5.0",
      "model_name": "FloatProgressModel",
      "state": {
       "_dom_classes": [],
       "_model_module": "@jupyter-widgets/controls",
       "_model_module_version": "1.5.0",
       "_model_name": "FloatProgressModel",
       "_view_count": null,
       "_view_module": "@jupyter-widgets/controls",
       "_view_module_version": "1.5.0",
       "_view_name": "ProgressView",
       "bar_style": "success",
       "description": "",
       "description_tooltip": null,
       "layout": "IPY_MODEL_f49b883036544c0a8db32f10430ec398",
       "max": 15.0,
       "min": 0.0,
       "orientation": "horizontal",
       "style": "IPY_MODEL_eb49878297af4dc8972ec72b629abac9",
       "value": 15.0
      }
     },
     "9cb0ec7dc63d459bb4543ec6a12069f1": {
      "model_module": "@jupyter-widgets/base",
      "model_module_version": "1.2.0",
      "model_name": "LayoutModel",
      "state": {
       "_model_module": "@jupyter-widgets/base",
       "_model_module_version": "1.2.0",
       "_model_name": "LayoutModel",
       "_view_count": null,
       "_view_module": "@jupyter-widgets/base",
       "_view_module_version": "1.2.0",
       "_view_name": "LayoutView",
       "align_content": null,
       "align_items": null,
       "align_self": null,
       "border": null,
       "bottom": null,
       "display": null,
       "flex": null,
       "flex_flow": null,
       "grid_area": null,
       "grid_auto_columns": null,
       "grid_auto_flow": null,
       "grid_auto_rows": null,
       "grid_column": null,
       "grid_gap": null,
       "grid_row": null,
       "grid_template_areas": null,
       "grid_template_columns": null,
       "grid_template_rows": null,
       "height": null,
       "justify_content": null,
       "justify_items": null,
       "left": null,
       "margin": null,
       "max_height": null,
       "max_width": null,
       "min_height": null,
       "min_width": null,
       "object_fit": null,
       "object_position": null,
       "order": null,
       "overflow": null,
       "overflow_x": null,
       "overflow_y": null,
       "padding": null,
       "right": null,
       "top": null,
       "visibility": null,
       "width": null
      }
     },
     "b61ead4941634497a44a4ca6b7be9946": {
      "model_module": "@jupyter-widgets/controls",
      "model_module_version": "1.5.0",
      "model_name": "HTMLModel",
      "state": {
       "_dom_classes": [],
       "_model_module": "@jupyter-widgets/controls",
       "_model_module_version": "1.5.0",
       "_model_name": "HTMLModel",
       "_view_count": null,
       "_view_module": "@jupyter-widgets/controls",
       "_view_module_version": "1.5.0",
       "_view_name": "HTMLView",
       "description": "",
       "description_tooltip": null,
       "layout": "IPY_MODEL_e6a522af8e5d40d4be9082eabac833b2",
       "placeholder": "​",
       "style": "IPY_MODEL_7631e5579a634f268fe13851704be698",
       "value": "100%"
      }
     },
     "e6a522af8e5d40d4be9082eabac833b2": {
      "model_module": "@jupyter-widgets/base",
      "model_module_version": "1.2.0",
      "model_name": "LayoutModel",
      "state": {
       "_model_module": "@jupyter-widgets/base",
       "_model_module_version": "1.2.0",
       "_model_name": "LayoutModel",
       "_view_count": null,
       "_view_module": "@jupyter-widgets/base",
       "_view_module_version": "1.2.0",
       "_view_name": "LayoutView",
       "align_content": null,
       "align_items": null,
       "align_self": null,
       "border": null,
       "bottom": null,
       "display": null,
       "flex": null,
       "flex_flow": null,
       "grid_area": null,
       "grid_auto_columns": null,
       "grid_auto_flow": null,
       "grid_auto_rows": null,
       "grid_column": null,
       "grid_gap": null,
       "grid_row": null,
       "grid_template_areas": null,
       "grid_template_columns": null,
       "grid_template_rows": null,
       "height": null,
       "justify_content": null,
       "justify_items": null,
       "left": null,
       "margin": null,
       "max_height": null,
       "max_width": null,
       "min_height": null,
       "min_width": null,
       "object_fit": null,
       "object_position": null,
       "order": null,
       "overflow": null,
       "overflow_x": null,
       "overflow_y": null,
       "padding": null,
       "right": null,
       "top": null,
       "visibility": null,
       "width": null
      }
     },
     "eb49878297af4dc8972ec72b629abac9": {
      "model_module": "@jupyter-widgets/controls",
      "model_module_version": "1.5.0",
      "model_name": "ProgressStyleModel",
      "state": {
       "_model_module": "@jupyter-widgets/controls",
       "_model_module_version": "1.5.0",
       "_model_name": "ProgressStyleModel",
       "_view_count": null,
       "_view_module": "@jupyter-widgets/base",
       "_view_module_version": "1.2.0",
       "_view_name": "StyleView",
       "bar_color": null,
       "description_width": ""
      }
     },
     "f49b883036544c0a8db32f10430ec398": {
      "model_module": "@jupyter-widgets/base",
      "model_module_version": "1.2.0",
      "model_name": "LayoutModel",
      "state": {
       "_model_module": "@jupyter-widgets/base",
       "_model_module_version": "1.2.0",
       "_model_name": "LayoutModel",
       "_view_count": null,
       "_view_module": "@jupyter-widgets/base",
       "_view_module_version": "1.2.0",
       "_view_name": "LayoutView",
       "align_content": null,
       "align_items": null,
       "align_self": null,
       "border": null,
       "bottom": null,
       "display": null,
       "flex": null,
       "flex_flow": null,
       "grid_area": null,
       "grid_auto_columns": null,
       "grid_auto_flow": null,
       "grid_auto_rows": null,
       "grid_column": null,
       "grid_gap": null,
       "grid_row": null,
       "grid_template_areas": null,
       "grid_template_columns": null,
       "grid_template_rows": null,
       "height": null,
       "justify_content": null,
       "justify_items": null,
       "left": null,
       "margin": null,
       "max_height": null,
       "max_width": null,
       "min_height": null,
       "min_width": null,
       "object_fit": null,
       "object_position": null,
       "order": null,
       "overflow": null,
       "overflow_x": null,
       "overflow_y": null,
       "padding": null,
       "right": null,
       "top": null,
       "visibility": null,
       "width": null
      }
     }
    },
    "version_major": 2,
    "version_minor": 0
   }
  }
 },
 "nbformat": 4,
 "nbformat_minor": 4
}
