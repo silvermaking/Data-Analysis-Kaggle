{
 "cells": [
  {
   "cell_type": "code",
   "execution_count": null,
   "metadata": {
    "_cell_guid": "b1076dfc-b9ad-4769-8c92-a6c4dae69d19",
    "_uuid": "8f2839f25d086af736a60e9eeb907d3b93b6e0e5",
    "execution": {
     "iopub.execute_input": "2021-10-16T05:33:02.388029Z",
     "iopub.status.busy": "2021-10-16T05:33:02.387693Z",
     "iopub.status.idle": "2021-10-16T05:33:02.399483Z",
     "shell.execute_reply": "2021-10-16T05:33:02.398323Z",
     "shell.execute_reply.started": "2021-10-16T05:33:02.387993Z"
    }
   },
   "outputs": [],
   "source": [
    "# This Python 3 environment comes with many helpful analytics libraries installed\n",
    "# It is defined by the kaggle/python Docker image: https://github.com/kaggle/docker-python\n",
    "# For example, here's several helpful packages to load\n",
    "\n",
    "import numpy as np # linear algebra\n",
    "import pandas as pd # data processing, CSV file I/O (e.g. pd.read_csv)\n",
    "\n",
    "# Input data files are available in the read-only \"../input/\" directory\n",
    "# For example, running this (by clicking run or pressing Shift+Enter) will list all files under the input directory\n",
    "\n",
    "import os\n",
    "for dirname, _, filenames in os.walk('/kaggle/input'):\n",
    "    for filename in filenames:\n",
    "        print(os.path.join(dirname, filename))\n",
    "\n",
    "# You can write up to 20GB to the current directory (/kaggle/working/) that gets preserved as output when you create a version using \"Save & Run All\" \n",
    "# You can also write temporary files to /kaggle/temp/, but they won't be saved outside of the current session"
   ]
  },
  {
   "cell_type": "code",
   "execution_count": null,
   "metadata": {
    "execution": {
     "iopub.execute_input": "2021-10-16T05:33:02.401959Z",
     "iopub.status.busy": "2021-10-16T05:33:02.401683Z",
     "iopub.status.idle": "2021-10-16T05:33:02.611814Z",
     "shell.execute_reply": "2021-10-16T05:33:02.610822Z",
     "shell.execute_reply.started": "2021-10-16T05:33:02.401927Z"
    }
   },
   "outputs": [],
   "source": [
    "train = pd.read_csv('/kaggle/input/GiveMeSomeCredit/cs-training.csv')\n",
    "train"
   ]
  },
  {
   "cell_type": "code",
   "execution_count": null,
   "metadata": {
    "execution": {
     "iopub.execute_input": "2021-10-16T05:33:02.61327Z",
     "iopub.status.busy": "2021-10-16T05:33:02.613016Z",
     "iopub.status.idle": "2021-10-16T05:33:02.741668Z",
     "shell.execute_reply": "2021-10-16T05:33:02.740681Z",
     "shell.execute_reply.started": "2021-10-16T05:33:02.613238Z"
    }
   },
   "outputs": [],
   "source": [
    "test = pd.read_csv('/kaggle/input/GiveMeSomeCredit/cs-test.csv')\n",
    "test"
   ]
  },
  {
   "cell_type": "code",
   "execution_count": null,
   "metadata": {
    "execution": {
     "iopub.execute_input": "2021-10-16T05:33:02.744176Z",
     "iopub.status.busy": "2021-10-16T05:33:02.743823Z",
     "iopub.status.idle": "2021-10-16T05:33:02.755839Z",
     "shell.execute_reply": "2021-10-16T05:33:02.754671Z",
     "shell.execute_reply.started": "2021-10-16T05:33:02.744141Z"
    }
   },
   "outputs": [],
   "source": [
    "train.isnull().sum()"
   ]
  },
  {
   "cell_type": "code",
   "execution_count": null,
   "metadata": {
    "execution": {
     "iopub.execute_input": "2021-10-16T05:33:02.758385Z",
     "iopub.status.busy": "2021-10-16T05:33:02.758026Z",
     "iopub.status.idle": "2021-10-16T05:33:02.77265Z",
     "shell.execute_reply": "2021-10-16T05:33:02.771571Z",
     "shell.execute_reply.started": "2021-10-16T05:33:02.758337Z"
    }
   },
   "outputs": [],
   "source": [
    "test.isnull().sum()"
   ]
  },
  {
   "cell_type": "code",
   "execution_count": null,
   "metadata": {
    "execution": {
     "iopub.execute_input": "2021-10-16T05:33:02.774435Z",
     "iopub.status.busy": "2021-10-16T05:33:02.774179Z",
     "iopub.status.idle": "2021-10-16T05:33:02.784445Z",
     "shell.execute_reply": "2021-10-16T05:33:02.78346Z",
     "shell.execute_reply.started": "2021-10-16T05:33:02.774405Z"
    }
   },
   "outputs": [],
   "source": [
    "train = train.fillna(0)"
   ]
  },
  {
   "cell_type": "code",
   "execution_count": null,
   "metadata": {
    "execution": {
     "iopub.execute_input": "2021-10-16T05:33:02.786833Z",
     "iopub.status.busy": "2021-10-16T05:33:02.785871Z",
     "iopub.status.idle": "2021-10-16T05:33:02.792922Z",
     "shell.execute_reply": "2021-10-16T05:33:02.791922Z",
     "shell.execute_reply.started": "2021-10-16T05:33:02.786794Z"
    }
   },
   "outputs": [],
   "source": [
    "import matplotlib.pyplot as plt\n",
    "import seaborn as sns"
   ]
  },
  {
   "cell_type": "code",
   "execution_count": null,
   "metadata": {
    "execution": {
     "iopub.execute_input": "2021-10-16T05:33:02.795205Z",
     "iopub.status.busy": "2021-10-16T05:33:02.794196Z",
     "iopub.status.idle": "2021-10-16T05:33:03.059212Z",
     "shell.execute_reply": "2021-10-16T05:33:03.058617Z",
     "shell.execute_reply.started": "2021-10-16T05:33:02.795165Z"
    }
   },
   "outputs": [],
   "source": [
    "sns.boxplot(train['DebtRatio'])"
   ]
  },
  {
   "cell_type": "code",
   "execution_count": null,
   "metadata": {
    "execution": {
     "iopub.execute_input": "2021-10-16T05:33:03.061185Z",
     "iopub.status.busy": "2021-10-16T05:33:03.060309Z",
     "iopub.status.idle": "2021-10-16T05:33:03.987411Z",
     "shell.execute_reply": "2021-10-16T05:33:03.986587Z",
     "shell.execute_reply.started": "2021-10-16T05:33:03.061137Z"
    }
   },
   "outputs": [],
   "source": [
    "sns.distplot(train['DebtRatio'])"
   ]
  },
  {
   "cell_type": "code",
   "execution_count": null,
   "metadata": {
    "execution": {
     "iopub.execute_input": "2021-10-16T05:33:03.990746Z",
     "iopub.status.busy": "2021-10-16T05:33:03.990302Z",
     "iopub.status.idle": "2021-10-16T05:33:05.032511Z",
     "shell.execute_reply": "2021-10-16T05:33:05.031863Z",
     "shell.execute_reply.started": "2021-10-16T05:33:03.990696Z"
    }
   },
   "outputs": [],
   "source": [
    "sns.distplot(train['NumberOfOpenCreditLinesAndLoans'])"
   ]
  },
  {
   "cell_type": "code",
   "execution_count": null,
   "metadata": {
    "execution": {
     "iopub.execute_input": "2021-10-16T05:33:05.034344Z",
     "iopub.status.busy": "2021-10-16T05:33:05.033893Z",
     "iopub.status.idle": "2021-10-16T05:33:05.044643Z",
     "shell.execute_reply": "2021-10-16T05:33:05.043789Z",
     "shell.execute_reply.started": "2021-10-16T05:33:05.034311Z"
    }
   },
   "outputs": [],
   "source": [
    "train.isnull().sum()"
   ]
  },
  {
   "cell_type": "code",
   "execution_count": null,
   "metadata": {
    "execution": {
     "iopub.execute_input": "2021-10-16T05:33:05.046244Z",
     "iopub.status.busy": "2021-10-16T05:33:05.046008Z",
     "iopub.status.idle": "2021-10-16T05:33:05.064147Z",
     "shell.execute_reply": "2021-10-16T05:33:05.063244Z",
     "shell.execute_reply.started": "2021-10-16T05:33:05.046205Z"
    }
   },
   "outputs": [],
   "source": [
    "train2 = train.fillna(0)\n",
    "train2.isnull().sum()"
   ]
  },
  {
   "cell_type": "code",
   "execution_count": null,
   "metadata": {
    "execution": {
     "iopub.execute_input": "2021-10-16T05:33:05.065793Z",
     "iopub.status.busy": "2021-10-16T05:33:05.065578Z",
     "iopub.status.idle": "2021-10-16T05:33:05.095676Z",
     "shell.execute_reply": "2021-10-16T05:33:05.094749Z",
     "shell.execute_reply.started": "2021-10-16T05:33:05.065766Z"
    }
   },
   "outputs": [],
   "source": [
    "test2 = test.drop(columns = 'SeriousDlqin2yrs')\n",
    "test2 = test2.fillna(0)\n",
    "test2"
   ]
  },
  {
   "cell_type": "code",
   "execution_count": null,
   "metadata": {
    "execution": {
     "iopub.execute_input": "2021-10-16T05:33:05.097288Z",
     "iopub.status.busy": "2021-10-16T05:33:05.097071Z",
     "iopub.status.idle": "2021-10-16T05:33:05.1273Z",
     "shell.execute_reply": "2021-10-16T05:33:05.126347Z",
     "shell.execute_reply.started": "2021-10-16T05:33:05.097262Z"
    }
   },
   "outputs": [],
   "source": [
    "train2 = train.drop(columns = 'SeriousDlqin2yrs')\n",
    "train2"
   ]
  },
  {
   "cell_type": "code",
   "execution_count": null,
   "metadata": {
    "execution": {
     "iopub.execute_input": "2021-10-16T05:49:22.038016Z",
     "iopub.status.busy": "2021-10-16T05:49:22.037286Z",
     "iopub.status.idle": "2021-10-16T05:49:22.042524Z",
     "shell.execute_reply": "2021-10-16T05:49:22.041932Z",
     "shell.execute_reply.started": "2021-10-16T05:49:22.037974Z"
    }
   },
   "outputs": [],
   "source": [
    "# from sklearn.ensemble import RandomForestRegressor\n",
    "\n",
    "# rf = RandomForestRegressor(n_jobs = -1)\n",
    "\n",
    "# rf.fit(train2, train['SeriousDlqin2yrs'])\n",
    "\n",
    "from xgboost import XGBRegressor\n",
    "\n",
    "model = XGBRegressor()\n",
    "\n"
   ]
  },
  {
   "cell_type": "code",
   "execution_count": null,
   "metadata": {
    "execution": {
     "iopub.execute_input": "2021-10-16T05:49:50.252697Z",
     "iopub.status.busy": "2021-10-16T05:49:50.252012Z",
     "iopub.status.idle": "2021-10-16T05:49:59.368453Z",
     "shell.execute_reply": "2021-10-16T05:49:59.367841Z",
     "shell.execute_reply.started": "2021-10-16T05:49:50.252652Z"
    }
   },
   "outputs": [],
   "source": [
    "model.fit(train2, train['SeriousDlqin2yrs'])"
   ]
  },
  {
   "cell_type": "code",
   "execution_count": null,
   "metadata": {
    "execution": {
     "iopub.execute_input": "2021-10-16T05:52:10.479965Z",
     "iopub.status.busy": "2021-10-16T05:52:10.479231Z",
     "iopub.status.idle": "2021-10-16T05:52:10.594852Z",
     "shell.execute_reply": "2021-10-16T05:52:10.593959Z",
     "shell.execute_reply.started": "2021-10-16T05:52:10.479907Z"
    }
   },
   "outputs": [],
   "source": [
    "result = model.predict(test2)\n",
    "result"
   ]
  },
  {
   "cell_type": "code",
   "execution_count": null,
   "metadata": {
    "execution": {
     "iopub.execute_input": "2021-10-16T05:52:24.629671Z",
     "iopub.status.busy": "2021-10-16T05:52:24.629181Z",
     "iopub.status.idle": "2021-10-16T05:52:24.656258Z",
     "shell.execute_reply": "2021-10-16T05:52:24.655709Z",
     "shell.execute_reply.started": "2021-10-16T05:52:24.629636Z"
    }
   },
   "outputs": [],
   "source": [
    "test['SeriousDlqin2yrs'] = result\n",
    "test"
   ]
  },
  {
   "cell_type": "code",
   "execution_count": null,
   "metadata": {
    "execution": {
     "iopub.execute_input": "2021-10-16T05:36:48.05975Z",
     "iopub.status.busy": "2021-10-16T05:36:48.059421Z",
     "iopub.status.idle": "2021-10-16T05:36:48.13218Z",
     "shell.execute_reply": "2021-10-16T05:36:48.131576Z",
     "shell.execute_reply.started": "2021-10-16T05:36:48.059715Z"
    }
   },
   "outputs": [],
   "source": [
    "sub = pd.read_csv('../input/GiveMeSomeCredit/sampleEntry.csv')\n",
    "sub"
   ]
  },
  {
   "cell_type": "code",
   "execution_count": null,
   "metadata": {
    "execution": {
     "iopub.execute_input": "2021-10-16T05:52:32.817793Z",
     "iopub.status.busy": "2021-10-16T05:52:32.817172Z",
     "iopub.status.idle": "2021-10-16T05:52:32.831893Z",
     "shell.execute_reply": "2021-10-16T05:52:32.830872Z",
     "shell.execute_reply.started": "2021-10-16T05:52:32.817755Z"
    }
   },
   "outputs": [],
   "source": [
    "sub['Probability'] = result\n",
    "sub"
   ]
  },
  {
   "cell_type": "code",
   "execution_count": null,
   "metadata": {
    "execution": {
     "iopub.execute_input": "2021-10-16T05:54:31.695419Z",
     "iopub.status.busy": "2021-10-16T05:54:31.695076Z",
     "iopub.status.idle": "2021-10-16T05:54:31.717561Z",
     "shell.execute_reply": "2021-10-16T05:54:31.716961Z",
     "shell.execute_reply.started": "2021-10-16T05:54:31.695369Z"
    }
   },
   "outputs": [],
   "source": [
    "sub['Probability'].sort_values()[:30]"
   ]
  },
  {
   "cell_type": "code",
   "execution_count": null,
   "metadata": {
    "execution": {
     "iopub.execute_input": "2021-10-16T05:58:10.620579Z",
     "iopub.status.busy": "2021-10-16T05:58:10.620195Z",
     "iopub.status.idle": "2021-10-16T05:58:10.630835Z",
     "shell.execute_reply": "2021-10-16T05:58:10.63013Z",
     "shell.execute_reply.started": "2021-10-16T05:58:10.620544Z"
    }
   },
   "outputs": [],
   "source": [
    "sub[sub['Probability'] <0] = 0 \n",
    "sub[sub['Probability']>1] = 1\n",
    "sub['Id'] = sub.index +1"
   ]
  },
  {
   "cell_type": "code",
   "execution_count": null,
   "metadata": {
    "execution": {
     "iopub.execute_input": "2021-10-16T05:58:11.508564Z",
     "iopub.status.busy": "2021-10-16T05:58:11.508019Z",
     "iopub.status.idle": "2021-10-16T05:58:11.532317Z",
     "shell.execute_reply": "2021-10-16T05:58:11.531524Z",
     "shell.execute_reply.started": "2021-10-16T05:58:11.50852Z"
    }
   },
   "outputs": [],
   "source": [
    "sub['Probability'].sort_values()[:30]"
   ]
  },
  {
   "cell_type": "code",
   "execution_count": null,
   "metadata": {
    "execution": {
     "iopub.execute_input": "2021-10-16T05:58:14.645657Z",
     "iopub.status.busy": "2021-10-16T05:58:14.645333Z",
     "iopub.status.idle": "2021-10-16T05:58:14.65743Z",
     "shell.execute_reply": "2021-10-16T05:58:14.656576Z",
     "shell.execute_reply.started": "2021-10-16T05:58:14.645624Z"
    }
   },
   "outputs": [],
   "source": [
    "sub"
   ]
  },
  {
   "cell_type": "code",
   "execution_count": null,
   "metadata": {
    "execution": {
     "iopub.execute_input": "2021-10-16T05:58:36.87784Z",
     "iopub.status.busy": "2021-10-16T05:58:36.87707Z",
     "iopub.status.idle": "2021-10-16T05:58:37.0813Z",
     "shell.execute_reply": "2021-10-16T05:58:37.080522Z",
     "shell.execute_reply.started": "2021-10-16T05:58:36.877792Z"
    }
   },
   "outputs": [],
   "source": [
    "sub.to_csv('sub2.csv', index = False)"
   ]
  },
  {
   "cell_type": "code",
   "execution_count": null,
   "metadata": {},
   "outputs": [],
   "source": []
  }
 ],
 "metadata": {
  "kernelspec": {
   "display_name": "Python 3 (ipykernel)",
   "language": "python",
   "name": "python3"
  },
  "language_info": {
   "codemirror_mode": {
    "name": "ipython",
    "version": 3
   },
   "file_extension": ".py",
   "mimetype": "text/x-python",
   "name": "python",
   "nbconvert_exporter": "python",
   "pygments_lexer": "ipython3",
   "version": "3.9.7"
  }
 },
 "nbformat": 4,
 "nbformat_minor": 4
}
